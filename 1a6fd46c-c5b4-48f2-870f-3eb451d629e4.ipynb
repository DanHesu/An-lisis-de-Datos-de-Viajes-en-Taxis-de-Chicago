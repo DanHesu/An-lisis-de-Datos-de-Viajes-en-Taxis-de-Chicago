{
 "cells": [
  {
   "cell_type": "markdown",
   "metadata": {
    "toc": true
   },
   "source": [
    "<h1><span class=\"tocSkip\"></span></h1>\n",
    "<div class=\"toc\"><ul class=\"toc-item\"><li><span><a href=\"#Objetivos-del-Proyecto:\" data-toc-modified-id=\"Objetivos-del-Proyecto:-1\"><span class=\"toc-item-num\">1&nbsp;&nbsp;</span>Objetivos del Proyecto:</a></span></li><li><span><a href=\"#Carga-e-Importación-de-Datos\" data-toc-modified-id=\"Carga-e-Importación-de-Datos-2\"><span class=\"toc-item-num\">2&nbsp;&nbsp;</span>Carga e Importación de Datos</a></span></li><li><span><a href=\"#Exploración-Inicial\" data-toc-modified-id=\"Exploración-Inicial-3\"><span class=\"toc-item-num\">3&nbsp;&nbsp;</span>Exploración Inicial</a></span></li><li><span><a href=\"#Carga-y-Análisis-de-Datos:\" data-toc-modified-id=\"Carga-y-Análisis-de-Datos:-4\"><span class=\"toc-item-num\">4&nbsp;&nbsp;</span>Carga y Análisis de Datos:</a></span></li><li><span><a href=\"#Sección-de-Prueba-de-Hipótesis\" data-toc-modified-id=\"Sección-de-Prueba-de-Hipótesis-5\"><span class=\"toc-item-num\">5&nbsp;&nbsp;</span>Sección de Prueba de Hipótesis</a></span></li><li><span><a href=\"#Conclusiones\" data-toc-modified-id=\"Conclusiones-6\"><span class=\"toc-item-num\">6&nbsp;&nbsp;</span>Conclusiones</a></span></li></ul></div>"
   ]
  },
  {
   "cell_type": "markdown",
   "metadata": {},
   "source": [
    "# 1. Introducción <a id=\"introduccion\"></a>\n",
    "El proyecto se centra en analizar datos relacionados con viajes en taxis en la ciudad de Chicago. Utilizaremos tres conjuntos de datos para comprender mejor la industria de taxis en la ciudad y extraer información relevante para empresas y usuarios. Los datos incluyen información sobre las empresas de taxis, los lugares de destino y las condiciones climáticas."
   ]
  },
  {
   "cell_type": "markdown",
   "metadata": {},
   "source": [
    "## Objetivos del Proyecto:\n",
    "Identificar las empresas de taxis más populares en Chicago.\n",
    "Determinar los lugares de destino más frecuentes para los viajes en taxi.\n",
    "Analizar si las condiciones climáticas tienen un impacto en la duración de los viajes.\n"
   ]
  },
  {
   "cell_type": "markdown",
   "metadata": {},
   "source": [
    "# Proyecto: Análisis de Datos de Viajes en Taxis de Chicago "
   ]
  },
  {
   "cell_type": "markdown",
   "metadata": {},
   "source": [
    "## Carga e Importación de Datos \n",
    "\n",
    "En esta sección, importaremos y exploraremos los tres conjuntos de datos utilizados en el proyecto. Aseguraremos que los datos estén listos para el análisis y revisaremos su estructura."
   ]
  },
  {
   "cell_type": "markdown",
   "metadata": {},
   "source": [
    "En esta sección, se importan las librerías necesarias, se cargan los conjuntos de datos desde archivos CSV y se realiza una breve descripción de las características de cada conjunto de datos."
   ]
  },
  {
   "cell_type": "code",
   "execution_count": 1,
   "metadata": {},
   "outputs": [],
   "source": [
    "import pandas as pd\n",
    "import matplotlib.pyplot as plt\n",
    "from scipy import stats\n",
    "from IPython.display import display\n"
   ]
  },
  {
   "cell_type": "code",
   "execution_count": 2,
   "metadata": {},
   "outputs": [],
   "source": [
    "ruta_archivo_01 = '/datasets/project_sql_result_01.csv'\n",
    "ruta_archivo_04 = '/datasets/project_sql_result_04.csv'\n",
    "ruta_archivo_07 = '/datasets/project_sql_result_07.csv'"
   ]
  },
  {
   "cell_type": "code",
   "execution_count": 3,
   "metadata": {},
   "outputs": [],
   "source": [
    "df1 = pd.read_csv(ruta_archivo_01)"
   ]
  },
  {
   "cell_type": "code",
   "execution_count": 4,
   "metadata": {},
   "outputs": [],
   "source": [
    "df2 = pd.read_csv(ruta_archivo_04)"
   ]
  },
  {
   "cell_type": "code",
   "execution_count": 5,
   "metadata": {},
   "outputs": [],
   "source": [
    "df3 = pd.read_csv(ruta_archivo_07)"
   ]
  },
  {
   "cell_type": "markdown",
   "metadata": {},
   "source": [
    "## Exploración Inicial\n",
    "Llevaremos a cabo un análisis exploratorio de datos para comprender las características y tendencias de los viajes en taxis en Chicago. Utilizaremos visualizaciones y gráficos para representar los datos."
   ]
  },
  {
   "cell_type": "code",
   "execution_count": 6,
   "metadata": {},
   "outputs": [
    {
     "name": "stdout",
     "output_type": "stream",
     "text": [
      "Primer DataFrame (project_sql_result_01.csv):\n"
     ]
    },
    {
     "data": {
      "text/html": [
       "<div>\n",
       "<style scoped>\n",
       "    .dataframe tbody tr th:only-of-type {\n",
       "        vertical-align: middle;\n",
       "    }\n",
       "\n",
       "    .dataframe tbody tr th {\n",
       "        vertical-align: top;\n",
       "    }\n",
       "\n",
       "    .dataframe thead th {\n",
       "        text-align: right;\n",
       "    }\n",
       "</style>\n",
       "<table border=\"1\" class=\"dataframe\">\n",
       "  <thead>\n",
       "    <tr style=\"text-align: right;\">\n",
       "      <th></th>\n",
       "      <th>company_name</th>\n",
       "      <th>trips_amount</th>\n",
       "    </tr>\n",
       "  </thead>\n",
       "  <tbody>\n",
       "    <tr>\n",
       "      <th>0</th>\n",
       "      <td>Flash Cab</td>\n",
       "      <td>19558</td>\n",
       "    </tr>\n",
       "    <tr>\n",
       "      <th>1</th>\n",
       "      <td>Taxi Affiliation Services</td>\n",
       "      <td>11422</td>\n",
       "    </tr>\n",
       "    <tr>\n",
       "      <th>2</th>\n",
       "      <td>Medallion Leasing</td>\n",
       "      <td>10367</td>\n",
       "    </tr>\n",
       "    <tr>\n",
       "      <th>3</th>\n",
       "      <td>Yellow Cab</td>\n",
       "      <td>9888</td>\n",
       "    </tr>\n",
       "    <tr>\n",
       "      <th>4</th>\n",
       "      <td>Taxi Affiliation Service Yellow</td>\n",
       "      <td>9299</td>\n",
       "    </tr>\n",
       "  </tbody>\n",
       "</table>\n",
       "</div>"
      ],
      "text/plain": [
       "                      company_name  trips_amount\n",
       "0                        Flash Cab         19558\n",
       "1        Taxi Affiliation Services         11422\n",
       "2                Medallion Leasing         10367\n",
       "3                       Yellow Cab          9888\n",
       "4  Taxi Affiliation Service Yellow          9299"
      ]
     },
     "metadata": {},
     "output_type": "display_data"
    },
    {
     "name": "stdout",
     "output_type": "stream",
     "text": [
      "\n",
      "Segundo DataFrame (project_sql_result_04.csv):\n"
     ]
    },
    {
     "data": {
      "text/html": [
       "<div>\n",
       "<style scoped>\n",
       "    .dataframe tbody tr th:only-of-type {\n",
       "        vertical-align: middle;\n",
       "    }\n",
       "\n",
       "    .dataframe tbody tr th {\n",
       "        vertical-align: top;\n",
       "    }\n",
       "\n",
       "    .dataframe thead th {\n",
       "        text-align: right;\n",
       "    }\n",
       "</style>\n",
       "<table border=\"1\" class=\"dataframe\">\n",
       "  <thead>\n",
       "    <tr style=\"text-align: right;\">\n",
       "      <th></th>\n",
       "      <th>dropoff_location_name</th>\n",
       "      <th>average_trips</th>\n",
       "    </tr>\n",
       "  </thead>\n",
       "  <tbody>\n",
       "    <tr>\n",
       "      <th>0</th>\n",
       "      <td>Loop</td>\n",
       "      <td>10727.466667</td>\n",
       "    </tr>\n",
       "    <tr>\n",
       "      <th>1</th>\n",
       "      <td>River North</td>\n",
       "      <td>9523.666667</td>\n",
       "    </tr>\n",
       "    <tr>\n",
       "      <th>2</th>\n",
       "      <td>Streeterville</td>\n",
       "      <td>6664.666667</td>\n",
       "    </tr>\n",
       "    <tr>\n",
       "      <th>3</th>\n",
       "      <td>West Loop</td>\n",
       "      <td>5163.666667</td>\n",
       "    </tr>\n",
       "    <tr>\n",
       "      <th>4</th>\n",
       "      <td>O'Hare</td>\n",
       "      <td>2546.900000</td>\n",
       "    </tr>\n",
       "  </tbody>\n",
       "</table>\n",
       "</div>"
      ],
      "text/plain": [
       "  dropoff_location_name  average_trips\n",
       "0                  Loop   10727.466667\n",
       "1           River North    9523.666667\n",
       "2         Streeterville    6664.666667\n",
       "3             West Loop    5163.666667\n",
       "4                O'Hare    2546.900000"
      ]
     },
     "metadata": {},
     "output_type": "display_data"
    },
    {
     "name": "stdout",
     "output_type": "stream",
     "text": [
      "\n",
      "Tercer DataFrame (project_sql_result_07.csv):\n"
     ]
    },
    {
     "data": {
      "text/html": [
       "<div>\n",
       "<style scoped>\n",
       "    .dataframe tbody tr th:only-of-type {\n",
       "        vertical-align: middle;\n",
       "    }\n",
       "\n",
       "    .dataframe tbody tr th {\n",
       "        vertical-align: top;\n",
       "    }\n",
       "\n",
       "    .dataframe thead th {\n",
       "        text-align: right;\n",
       "    }\n",
       "</style>\n",
       "<table border=\"1\" class=\"dataframe\">\n",
       "  <thead>\n",
       "    <tr style=\"text-align: right;\">\n",
       "      <th></th>\n",
       "      <th>start_ts</th>\n",
       "      <th>weather_conditions</th>\n",
       "      <th>duration_seconds</th>\n",
       "    </tr>\n",
       "  </thead>\n",
       "  <tbody>\n",
       "    <tr>\n",
       "      <th>0</th>\n",
       "      <td>2017-11-25 16:00:00</td>\n",
       "      <td>Good</td>\n",
       "      <td>2410.0</td>\n",
       "    </tr>\n",
       "    <tr>\n",
       "      <th>1</th>\n",
       "      <td>2017-11-25 14:00:00</td>\n",
       "      <td>Good</td>\n",
       "      <td>1920.0</td>\n",
       "    </tr>\n",
       "    <tr>\n",
       "      <th>2</th>\n",
       "      <td>2017-11-25 12:00:00</td>\n",
       "      <td>Good</td>\n",
       "      <td>1543.0</td>\n",
       "    </tr>\n",
       "    <tr>\n",
       "      <th>3</th>\n",
       "      <td>2017-11-04 10:00:00</td>\n",
       "      <td>Good</td>\n",
       "      <td>2512.0</td>\n",
       "    </tr>\n",
       "    <tr>\n",
       "      <th>4</th>\n",
       "      <td>2017-11-11 07:00:00</td>\n",
       "      <td>Good</td>\n",
       "      <td>1440.0</td>\n",
       "    </tr>\n",
       "  </tbody>\n",
       "</table>\n",
       "</div>"
      ],
      "text/plain": [
       "              start_ts weather_conditions  duration_seconds\n",
       "0  2017-11-25 16:00:00               Good            2410.0\n",
       "1  2017-11-25 14:00:00               Good            1920.0\n",
       "2  2017-11-25 12:00:00               Good            1543.0\n",
       "3  2017-11-04 10:00:00               Good            2512.0\n",
       "4  2017-11-11 07:00:00               Good            1440.0"
      ]
     },
     "metadata": {},
     "output_type": "display_data"
    }
   ],
   "source": [
    "print(\"Primer DataFrame (project_sql_result_01.csv):\")\n",
    "display(df1.head())\n",
    "\n",
    "print(\"\\nSegundo DataFrame (project_sql_result_04.csv):\")\n",
    "display(df2.head())\n",
    "\n",
    "print(\"\\nTercer DataFrame (project_sql_result_07.csv):\")\n",
    "display(df3.head())"
   ]
  },
  {
   "cell_type": "code",
   "execution_count": 7,
   "metadata": {
    "scrolled": false
   },
   "outputs": [
    {
     "name": "stdout",
     "output_type": "stream",
     "text": [
      "<class 'pandas.core.frame.DataFrame'>\n",
      "RangeIndex: 64 entries, 0 to 63\n",
      "Data columns (total 2 columns):\n",
      " #   Column        Non-Null Count  Dtype \n",
      "---  ------        --------------  ----- \n",
      " 0   company_name  64 non-null     object\n",
      " 1   trips_amount  64 non-null     int64 \n",
      "dtypes: int64(1), object(1)\n",
      "memory usage: 1.1+ KB\n"
     ]
    },
    {
     "data": {
      "text/plain": [
       "None"
      ]
     },
     "metadata": {},
     "output_type": "display_data"
    },
    {
     "data": {
      "text/html": [
       "<div>\n",
       "<style scoped>\n",
       "    .dataframe tbody tr th:only-of-type {\n",
       "        vertical-align: middle;\n",
       "    }\n",
       "\n",
       "    .dataframe tbody tr th {\n",
       "        vertical-align: top;\n",
       "    }\n",
       "\n",
       "    .dataframe thead th {\n",
       "        text-align: right;\n",
       "    }\n",
       "</style>\n",
       "<table border=\"1\" class=\"dataframe\">\n",
       "  <thead>\n",
       "    <tr style=\"text-align: right;\">\n",
       "      <th></th>\n",
       "      <th>company_name</th>\n",
       "      <th>trips_amount</th>\n",
       "    </tr>\n",
       "  </thead>\n",
       "  <tbody>\n",
       "    <tr>\n",
       "      <th>0</th>\n",
       "      <td>Flash Cab</td>\n",
       "      <td>19558</td>\n",
       "    </tr>\n",
       "    <tr>\n",
       "      <th>1</th>\n",
       "      <td>Taxi Affiliation Services</td>\n",
       "      <td>11422</td>\n",
       "    </tr>\n",
       "    <tr>\n",
       "      <th>2</th>\n",
       "      <td>Medallion Leasing</td>\n",
       "      <td>10367</td>\n",
       "    </tr>\n",
       "    <tr>\n",
       "      <th>3</th>\n",
       "      <td>Yellow Cab</td>\n",
       "      <td>9888</td>\n",
       "    </tr>\n",
       "    <tr>\n",
       "      <th>4</th>\n",
       "      <td>Taxi Affiliation Service Yellow</td>\n",
       "      <td>9299</td>\n",
       "    </tr>\n",
       "  </tbody>\n",
       "</table>\n",
       "</div>"
      ],
      "text/plain": [
       "                      company_name  trips_amount\n",
       "0                        Flash Cab         19558\n",
       "1        Taxi Affiliation Services         11422\n",
       "2                Medallion Leasing         10367\n",
       "3                       Yellow Cab          9888\n",
       "4  Taxi Affiliation Service Yellow          9299"
      ]
     },
     "metadata": {},
     "output_type": "display_data"
    }
   ],
   "source": [
    "# Muestra información sobre las columnas y tipos de datos en el primer DataFrame\n",
    "display(df1.info())\n",
    "\n",
    "# Muestra las primeras filas del primer DataFrame\n",
    "display(df1.head())"
   ]
  },
  {
   "cell_type": "code",
   "execution_count": 8,
   "metadata": {
    "scrolled": false
   },
   "outputs": [
    {
     "name": "stdout",
     "output_type": "stream",
     "text": [
      "<class 'pandas.core.frame.DataFrame'>\n",
      "RangeIndex: 94 entries, 0 to 93\n",
      "Data columns (total 2 columns):\n",
      " #   Column                 Non-Null Count  Dtype  \n",
      "---  ------                 --------------  -----  \n",
      " 0   dropoff_location_name  94 non-null     object \n",
      " 1   average_trips          94 non-null     float64\n",
      "dtypes: float64(1), object(1)\n",
      "memory usage: 1.6+ KB\n"
     ]
    },
    {
     "data": {
      "text/plain": [
       "None"
      ]
     },
     "metadata": {},
     "output_type": "display_data"
    },
    {
     "data": {
      "text/html": [
       "<div>\n",
       "<style scoped>\n",
       "    .dataframe tbody tr th:only-of-type {\n",
       "        vertical-align: middle;\n",
       "    }\n",
       "\n",
       "    .dataframe tbody tr th {\n",
       "        vertical-align: top;\n",
       "    }\n",
       "\n",
       "    .dataframe thead th {\n",
       "        text-align: right;\n",
       "    }\n",
       "</style>\n",
       "<table border=\"1\" class=\"dataframe\">\n",
       "  <thead>\n",
       "    <tr style=\"text-align: right;\">\n",
       "      <th></th>\n",
       "      <th>dropoff_location_name</th>\n",
       "      <th>average_trips</th>\n",
       "    </tr>\n",
       "  </thead>\n",
       "  <tbody>\n",
       "    <tr>\n",
       "      <th>0</th>\n",
       "      <td>Loop</td>\n",
       "      <td>10727.466667</td>\n",
       "    </tr>\n",
       "    <tr>\n",
       "      <th>1</th>\n",
       "      <td>River North</td>\n",
       "      <td>9523.666667</td>\n",
       "    </tr>\n",
       "    <tr>\n",
       "      <th>2</th>\n",
       "      <td>Streeterville</td>\n",
       "      <td>6664.666667</td>\n",
       "    </tr>\n",
       "    <tr>\n",
       "      <th>3</th>\n",
       "      <td>West Loop</td>\n",
       "      <td>5163.666667</td>\n",
       "    </tr>\n",
       "    <tr>\n",
       "      <th>4</th>\n",
       "      <td>O'Hare</td>\n",
       "      <td>2546.900000</td>\n",
       "    </tr>\n",
       "  </tbody>\n",
       "</table>\n",
       "</div>"
      ],
      "text/plain": [
       "  dropoff_location_name  average_trips\n",
       "0                  Loop   10727.466667\n",
       "1           River North    9523.666667\n",
       "2         Streeterville    6664.666667\n",
       "3             West Loop    5163.666667\n",
       "4                O'Hare    2546.900000"
      ]
     },
     "metadata": {},
     "output_type": "display_data"
    }
   ],
   "source": [
    "# Muestra información sobre las columnas y tipos de datos en el segundo DataFrame\n",
    "display(df2.info())\n",
    "# Muestra las primeras filas del segundo DataFrame\n",
    "display(df2.head())"
   ]
  },
  {
   "cell_type": "code",
   "execution_count": 9,
   "metadata": {},
   "outputs": [
    {
     "name": "stdout",
     "output_type": "stream",
     "text": [
      "<class 'pandas.core.frame.DataFrame'>\n",
      "RangeIndex: 1068 entries, 0 to 1067\n",
      "Data columns (total 3 columns):\n",
      " #   Column              Non-Null Count  Dtype  \n",
      "---  ------              --------------  -----  \n",
      " 0   start_ts            1068 non-null   object \n",
      " 1   weather_conditions  1068 non-null   object \n",
      " 2   duration_seconds    1068 non-null   float64\n",
      "dtypes: float64(1), object(2)\n",
      "memory usage: 25.2+ KB\n"
     ]
    },
    {
     "data": {
      "text/plain": [
       "None"
      ]
     },
     "metadata": {},
     "output_type": "display_data"
    },
    {
     "data": {
      "text/html": [
       "<div>\n",
       "<style scoped>\n",
       "    .dataframe tbody tr th:only-of-type {\n",
       "        vertical-align: middle;\n",
       "    }\n",
       "\n",
       "    .dataframe tbody tr th {\n",
       "        vertical-align: top;\n",
       "    }\n",
       "\n",
       "    .dataframe thead th {\n",
       "        text-align: right;\n",
       "    }\n",
       "</style>\n",
       "<table border=\"1\" class=\"dataframe\">\n",
       "  <thead>\n",
       "    <tr style=\"text-align: right;\">\n",
       "      <th></th>\n",
       "      <th>start_ts</th>\n",
       "      <th>weather_conditions</th>\n",
       "      <th>duration_seconds</th>\n",
       "    </tr>\n",
       "  </thead>\n",
       "  <tbody>\n",
       "    <tr>\n",
       "      <th>0</th>\n",
       "      <td>2017-11-25 16:00:00</td>\n",
       "      <td>Good</td>\n",
       "      <td>2410.0</td>\n",
       "    </tr>\n",
       "    <tr>\n",
       "      <th>1</th>\n",
       "      <td>2017-11-25 14:00:00</td>\n",
       "      <td>Good</td>\n",
       "      <td>1920.0</td>\n",
       "    </tr>\n",
       "    <tr>\n",
       "      <th>2</th>\n",
       "      <td>2017-11-25 12:00:00</td>\n",
       "      <td>Good</td>\n",
       "      <td>1543.0</td>\n",
       "    </tr>\n",
       "    <tr>\n",
       "      <th>3</th>\n",
       "      <td>2017-11-04 10:00:00</td>\n",
       "      <td>Good</td>\n",
       "      <td>2512.0</td>\n",
       "    </tr>\n",
       "    <tr>\n",
       "      <th>4</th>\n",
       "      <td>2017-11-11 07:00:00</td>\n",
       "      <td>Good</td>\n",
       "      <td>1440.0</td>\n",
       "    </tr>\n",
       "  </tbody>\n",
       "</table>\n",
       "</div>"
      ],
      "text/plain": [
       "              start_ts weather_conditions  duration_seconds\n",
       "0  2017-11-25 16:00:00               Good            2410.0\n",
       "1  2017-11-25 14:00:00               Good            1920.0\n",
       "2  2017-11-25 12:00:00               Good            1543.0\n",
       "3  2017-11-04 10:00:00               Good            2512.0\n",
       "4  2017-11-11 07:00:00               Good            1440.0"
      ]
     },
     "metadata": {},
     "output_type": "display_data"
    },
    {
     "data": {
      "text/html": [
       "<div>\n",
       "<style scoped>\n",
       "    .dataframe tbody tr th:only-of-type {\n",
       "        vertical-align: middle;\n",
       "    }\n",
       "\n",
       "    .dataframe tbody tr th {\n",
       "        vertical-align: top;\n",
       "    }\n",
       "\n",
       "    .dataframe thead th {\n",
       "        text-align: right;\n",
       "    }\n",
       "</style>\n",
       "<table border=\"1\" class=\"dataframe\">\n",
       "  <thead>\n",
       "    <tr style=\"text-align: right;\">\n",
       "      <th></th>\n",
       "      <th>duration_seconds</th>\n",
       "    </tr>\n",
       "  </thead>\n",
       "  <tbody>\n",
       "    <tr>\n",
       "      <th>count</th>\n",
       "      <td>1068.000000</td>\n",
       "    </tr>\n",
       "    <tr>\n",
       "      <th>mean</th>\n",
       "      <td>2071.731273</td>\n",
       "    </tr>\n",
       "    <tr>\n",
       "      <th>std</th>\n",
       "      <td>769.461125</td>\n",
       "    </tr>\n",
       "    <tr>\n",
       "      <th>min</th>\n",
       "      <td>0.000000</td>\n",
       "    </tr>\n",
       "    <tr>\n",
       "      <th>25%</th>\n",
       "      <td>1438.250000</td>\n",
       "    </tr>\n",
       "    <tr>\n",
       "      <th>50%</th>\n",
       "      <td>1980.000000</td>\n",
       "    </tr>\n",
       "    <tr>\n",
       "      <th>75%</th>\n",
       "      <td>2580.000000</td>\n",
       "    </tr>\n",
       "    <tr>\n",
       "      <th>max</th>\n",
       "      <td>7440.000000</td>\n",
       "    </tr>\n",
       "  </tbody>\n",
       "</table>\n",
       "</div>"
      ],
      "text/plain": [
       "       duration_seconds\n",
       "count       1068.000000\n",
       "mean        2071.731273\n",
       "std          769.461125\n",
       "min            0.000000\n",
       "25%         1438.250000\n",
       "50%         1980.000000\n",
       "75%         2580.000000\n",
       "max         7440.000000"
      ]
     },
     "metadata": {},
     "output_type": "display_data"
    }
   ],
   "source": [
    "# Muestra información sobre las columnas y tipos de datos en el tercer DataFrame\n",
    "display(df3.info())\n",
    "# Muestra las primeras filas del tercer DataFrame\n",
    "display(df3.head())\n",
    "# Muestra estadísticas descriptivas de las variables numéricas\n",
    "display(df3.describe())"
   ]
  },
  {
   "cell_type": "markdown",
   "metadata": {},
   "source": [
    "-El DataFrame contiene 1,068 entradas y 3 columnas.\n",
    "\n",
    "-La columna \"start_ts\" contiene fechas y horas en el formato datetime64[ns].\n",
    "\n",
    "-La columna \"weather_conditions\" es de tipo objeto (categórico).\n",
    "\n",
    "-La columna \"duration_seconds\" es de tipo float64 (numérico).\n",
    "\n",
    "-No hay valores nulos en ninguno de los campos.\n",
    "\n",
    "\n",
    "El uso de memoria es de aproximadamente 25.2 KB.\n",
    "Además, se muestra una tabla con las primeras 5 filas de datos del DataFrame, lo que proporciona una vista previa de los datos.\n",
    "\n",
    "\n",
    "Finalmente, se presenta un resumen estadístico de la columna \"duration_seconds,\" que incluye el recuento, la media, la desviación estándar, el valor mínimo, el percentil 25, la mediana (percentil 50), el percentil 75 y el valor máximo de los datos. Esto brinda una visión general de la distribución de los tiempos de duración en segundos."
   ]
  },
  {
   "cell_type": "markdown",
   "metadata": {},
   "source": [
    "## Carga y Análisis de Datos:\n",
    "\n",
    "Primer DataFrame (project_sql_result_01.csv):\n",
    "\n",
    "En este primer conjunto de datos, hemos cargado la información que contiene 64 filas y 2 columnas. La columna \"company_name\" se refiere a las compañías de taxis, y \"trips_amount\" representa la cantidad de viajes realizados por cada compañía. Este conjunto de datos se utilizará para comprender mejor la distribución de los viajes entre diferentes compañías de taxis en un período de tiempo específico.\n",
    "\n",
    "Segundo DataFrame (project_sql_result_04.csv):\n",
    "\n",
    "El segundo DataFrame contiene 94 filas y 2 columnas. La columna \"dropoff_location_name\" describe ubicaciones de entrega de taxis, mientras que \"average_trips\" indica el promedio de viajes realizados en esas ubicaciones. Este conjunto de datos se explorará para analizar y comprender las ubicaciones de entrega más populares y la cantidad promedio de viajes a estas ubicaciones.\n",
    "\n",
    "Tercer DataFrame (project_sql_result_07.csv):\n",
    "\n",
    "El tercer conjunto de datos consta de 1068 filas y 3 columnas. Se ha realizado una conversión de la columna \"start_ts\" al tipo datetime para representar fechas y horas. La columna \"weather_conditions\" informa sobre las condiciones climáticas al momento de los eventos, y \"duration_seconds\" detalla la duración de estos eventos. Estos datos se analizarán para comprender cómo las condiciones climáticas pueden afectar la duración de ciertos eventos en función de la fecha y hora.\n"
   ]
  },
  {
   "cell_type": "code",
   "execution_count": 10,
   "metadata": {},
   "outputs": [
    {
     "data": {
      "text/plain": [
       "company_name    object\n",
       "trips_amount     int64\n",
       "dtype: object"
      ]
     },
     "metadata": {},
     "output_type": "display_data"
    }
   ],
   "source": [
    "# Verificamos los tipos de datos en el primer DataFrame\n",
    "display(df1.dtypes)"
   ]
  },
  {
   "cell_type": "code",
   "execution_count": 11,
   "metadata": {},
   "outputs": [
    {
     "data": {
      "text/plain": [
       "dropoff_location_name     object\n",
       "average_trips            float64\n",
       "dtype: object"
      ]
     },
     "metadata": {},
     "output_type": "display_data"
    }
   ],
   "source": [
    "display(df2.dtypes)"
   ]
  },
  {
   "cell_type": "code",
   "execution_count": 12,
   "metadata": {},
   "outputs": [
    {
     "data": {
      "text/plain": [
       "start_ts               object\n",
       "weather_conditions     object\n",
       "duration_seconds      float64\n",
       "dtype: object"
      ]
     },
     "metadata": {},
     "output_type": "display_data"
    }
   ],
   "source": [
    "# Verificamos los tipos de datos en el tercer DataFrame\n",
    "display(df3.dtypes)\n",
    "\n",
    "# Convertimos la columna 'start_ts' en un objeto de fecha y hora en el tercer DataFrame\n",
    "df3['start_ts'] = pd.to_datetime(df3['start_ts'])\n"
   ]
  },
  {
   "cell_type": "code",
   "execution_count": 13,
   "metadata": {},
   "outputs": [],
   "source": [
    "# Filtramos los datos para obtener solo los sábados en el tercer DataFrame\n",
    "saturdays = df3[df3['start_ts'].dt.dayofweek == 5]\n",
    "\n",
    "# Dividimos los datos en dos grupos: sábados lluviosos y sábados no lluviosos en el tercer DataFrame\n",
    "rainy_saturdays = saturdays[saturdays['weather_conditions'] == 'Bad']\n",
    "non_rainy_saturdays = saturdays[saturdays['weather_conditions'] == 'Good']"
   ]
  },
  {
   "cell_type": "code",
   "execution_count": 14,
   "metadata": {},
   "outputs": [
    {
     "data": {
      "text/plain": [
       "company_name    0\n",
       "trips_amount    0\n",
       "dtype: int64"
      ]
     },
     "metadata": {},
     "output_type": "display_data"
    },
    {
     "data": {
      "text/plain": [
       "dropoff_location_name    0\n",
       "average_trips            0\n",
       "dtype: int64"
      ]
     },
     "metadata": {},
     "output_type": "display_data"
    },
    {
     "data": {
      "text/plain": [
       "start_ts              0\n",
       "weather_conditions    0\n",
       "duration_seconds      0\n",
       "dtype: int64"
      ]
     },
     "metadata": {},
     "output_type": "display_data"
    }
   ],
   "source": [
    "# Comprobamos si hay valores nulos en los DataFrames\n",
    "display(df1.isnull().sum())\n",
    "display(df2.isnull().sum())\n",
    "display(df3.isnull().sum())"
   ]
  },
  {
   "cell_type": "code",
   "execution_count": 15,
   "metadata": {},
   "outputs": [
    {
     "data": {
      "text/html": [
       "<div>\n",
       "<style scoped>\n",
       "    .dataframe tbody tr th:only-of-type {\n",
       "        vertical-align: middle;\n",
       "    }\n",
       "\n",
       "    .dataframe tbody tr th {\n",
       "        vertical-align: top;\n",
       "    }\n",
       "\n",
       "    .dataframe thead th {\n",
       "        text-align: right;\n",
       "    }\n",
       "</style>\n",
       "<table border=\"1\" class=\"dataframe\">\n",
       "  <thead>\n",
       "    <tr style=\"text-align: right;\">\n",
       "      <th></th>\n",
       "      <th>company_name</th>\n",
       "      <th>trips_amount</th>\n",
       "    </tr>\n",
       "  </thead>\n",
       "  <tbody>\n",
       "  </tbody>\n",
       "</table>\n",
       "</div>"
      ],
      "text/plain": [
       "Empty DataFrame\n",
       "Columns: [company_name, trips_amount]\n",
       "Index: []"
      ]
     },
     "metadata": {},
     "output_type": "display_data"
    }
   ],
   "source": [
    "# Verificamos duplicados en los DataFrames\n",
    "duplicates_df1 = df1[df1.duplicated()]\n",
    "display(duplicates_df1)"
   ]
  },
  {
   "cell_type": "code",
   "execution_count": 16,
   "metadata": {},
   "outputs": [
    {
     "data": {
      "text/html": [
       "<div>\n",
       "<style scoped>\n",
       "    .dataframe tbody tr th:only-of-type {\n",
       "        vertical-align: middle;\n",
       "    }\n",
       "\n",
       "    .dataframe tbody tr th {\n",
       "        vertical-align: top;\n",
       "    }\n",
       "\n",
       "    .dataframe thead th {\n",
       "        text-align: right;\n",
       "    }\n",
       "</style>\n",
       "<table border=\"1\" class=\"dataframe\">\n",
       "  <thead>\n",
       "    <tr style=\"text-align: right;\">\n",
       "      <th></th>\n",
       "      <th>dropoff_location_name</th>\n",
       "      <th>average_trips</th>\n",
       "    </tr>\n",
       "  </thead>\n",
       "  <tbody>\n",
       "  </tbody>\n",
       "</table>\n",
       "</div>"
      ],
      "text/plain": [
       "Empty DataFrame\n",
       "Columns: [dropoff_location_name, average_trips]\n",
       "Index: []"
      ]
     },
     "metadata": {},
     "output_type": "display_data"
    }
   ],
   "source": [
    "duplicates_df2 = df2[df2.duplicated()]\n",
    "display(duplicates_df2)"
   ]
  },
  {
   "cell_type": "code",
   "execution_count": 17,
   "metadata": {},
   "outputs": [
    {
     "data": {
      "text/html": [
       "<div>\n",
       "<style scoped>\n",
       "    .dataframe tbody tr th:only-of-type {\n",
       "        vertical-align: middle;\n",
       "    }\n",
       "\n",
       "    .dataframe tbody tr th {\n",
       "        vertical-align: top;\n",
       "    }\n",
       "\n",
       "    .dataframe thead th {\n",
       "        text-align: right;\n",
       "    }\n",
       "</style>\n",
       "<table border=\"1\" class=\"dataframe\">\n",
       "  <thead>\n",
       "    <tr style=\"text-align: right;\">\n",
       "      <th></th>\n",
       "      <th>start_ts</th>\n",
       "      <th>weather_conditions</th>\n",
       "      <th>duration_seconds</th>\n",
       "    </tr>\n",
       "  </thead>\n",
       "  <tbody>\n",
       "    <tr>\n",
       "      <th>62</th>\n",
       "      <td>2017-11-11 06:00:00</td>\n",
       "      <td>Good</td>\n",
       "      <td>1260.0</td>\n",
       "    </tr>\n",
       "    <tr>\n",
       "      <th>74</th>\n",
       "      <td>2017-11-11 08:00:00</td>\n",
       "      <td>Good</td>\n",
       "      <td>1380.0</td>\n",
       "    </tr>\n",
       "    <tr>\n",
       "      <th>76</th>\n",
       "      <td>2017-11-04 09:00:00</td>\n",
       "      <td>Good</td>\n",
       "      <td>1380.0</td>\n",
       "    </tr>\n",
       "    <tr>\n",
       "      <th>117</th>\n",
       "      <td>2017-11-11 07:00:00</td>\n",
       "      <td>Good</td>\n",
       "      <td>1380.0</td>\n",
       "    </tr>\n",
       "    <tr>\n",
       "      <th>119</th>\n",
       "      <td>2017-11-04 14:00:00</td>\n",
       "      <td>Good</td>\n",
       "      <td>3300.0</td>\n",
       "    </tr>\n",
       "    <tr>\n",
       "      <th>...</th>\n",
       "      <td>...</td>\n",
       "      <td>...</td>\n",
       "      <td>...</td>\n",
       "    </tr>\n",
       "    <tr>\n",
       "      <th>1054</th>\n",
       "      <td>2017-11-11 07:00:00</td>\n",
       "      <td>Good</td>\n",
       "      <td>1380.0</td>\n",
       "    </tr>\n",
       "    <tr>\n",
       "      <th>1058</th>\n",
       "      <td>2017-11-25 12:00:00</td>\n",
       "      <td>Good</td>\n",
       "      <td>1440.0</td>\n",
       "    </tr>\n",
       "    <tr>\n",
       "      <th>1062</th>\n",
       "      <td>2017-11-11 06:00:00</td>\n",
       "      <td>Good</td>\n",
       "      <td>1500.0</td>\n",
       "    </tr>\n",
       "    <tr>\n",
       "      <th>1065</th>\n",
       "      <td>2017-11-11 13:00:00</td>\n",
       "      <td>Good</td>\n",
       "      <td>2100.0</td>\n",
       "    </tr>\n",
       "    <tr>\n",
       "      <th>1066</th>\n",
       "      <td>2017-11-11 08:00:00</td>\n",
       "      <td>Good</td>\n",
       "      <td>1380.0</td>\n",
       "    </tr>\n",
       "  </tbody>\n",
       "</table>\n",
       "<p>197 rows × 3 columns</p>\n",
       "</div>"
      ],
      "text/plain": [
       "                start_ts weather_conditions  duration_seconds\n",
       "62   2017-11-11 06:00:00               Good            1260.0\n",
       "74   2017-11-11 08:00:00               Good            1380.0\n",
       "76   2017-11-04 09:00:00               Good            1380.0\n",
       "117  2017-11-11 07:00:00               Good            1380.0\n",
       "119  2017-11-04 14:00:00               Good            3300.0\n",
       "...                  ...                ...               ...\n",
       "1054 2017-11-11 07:00:00               Good            1380.0\n",
       "1058 2017-11-25 12:00:00               Good            1440.0\n",
       "1062 2017-11-11 06:00:00               Good            1500.0\n",
       "1065 2017-11-11 13:00:00               Good            2100.0\n",
       "1066 2017-11-11 08:00:00               Good            1380.0\n",
       "\n",
       "[197 rows x 3 columns]"
      ]
     },
     "metadata": {},
     "output_type": "display_data"
    }
   ],
   "source": [
    "duplicates_df3 = df3[df3.duplicated()]\n",
    "display(duplicates_df3)"
   ]
  },
  {
   "cell_type": "code",
   "execution_count": 18,
   "metadata": {},
   "outputs": [
    {
     "name": "stdout",
     "output_type": "stream",
     "text": [
      "Duplicados en df1:\n"
     ]
    },
    {
     "data": {
      "text/plain": [
       "company_name    0.0\n",
       "trips_amount    0.0\n",
       "dtype: float64"
      ]
     },
     "metadata": {},
     "output_type": "display_data"
    },
    {
     "name": "stdout",
     "output_type": "stream",
     "text": [
      "Duplicados en df2:\n"
     ]
    },
    {
     "data": {
      "text/plain": [
       "dropoff_location_name    0.0\n",
       "average_trips            0.0\n",
       "dtype: float64"
      ]
     },
     "metadata": {},
     "output_type": "display_data"
    },
    {
     "name": "stdout",
     "output_type": "stream",
     "text": [
      "Duplicados en df3:\n"
     ]
    },
    {
     "data": {
      "text/plain": [
       "weather_conditions    GoodGoodGoodGoodGoodGoodGoodGoodGoodGoodBadGoo...\n",
       "duration_seconds                                               386724.0\n",
       "dtype: object"
      ]
     },
     "metadata": {},
     "output_type": "display_data"
    }
   ],
   "source": [
    "duplicates_count_df1 = df1[df1.duplicated()].sum()\n",
    "duplicates_count_df2 = df2[df2.duplicated()].sum()\n",
    "duplicates_count_df3 = df3[df3.duplicated()].sum()\n",
    "\n",
    "# Muestra la cantidad de duplicados en el primer DataFrame\n",
    "print(\"Duplicados en df1:\")\n",
    "display(duplicates_count_df1)\n",
    "\n",
    "# Muestra la cantidad de duplicados en el segundo DataFrame\n",
    "print(\"Duplicados en df2:\")\n",
    "display(duplicates_count_df2)\n",
    "\n",
    "# Muestra la cantidad de duplicados en el tercer DataFrame\n",
    "print(\"Duplicados en df3:\")\n",
    "display(duplicates_count_df3)\n"
   ]
  },
  {
   "cell_type": "code",
   "execution_count": 19,
   "metadata": {},
   "outputs": [
    {
     "name": "stdout",
     "output_type": "stream",
     "text": [
      "Duplicados en df3 después de eliminarlos:\n",
      "0\n",
      "Forma de df3 después de eliminar duplicados: (871, 3)\n"
     ]
    }
   ],
   "source": [
    "# Eliminar duplicados del DataFrame 3 (df3)\n",
    "df3 = df3.drop_duplicates()\n",
    "\n",
    "# Verificar si los duplicados se han eliminado\n",
    "print(\"Duplicados en df3 después de eliminarlos:\")\n",
    "print(df3.duplicated().sum())\n",
    "\n",
    "# Verificar la forma del DataFrame después de eliminar duplicados\n",
    "print(\"Forma de df3 después de eliminar duplicados:\", df3.shape)\n"
   ]
  },
  {
   "cell_type": "markdown",
   "metadata": {},
   "source": [
    "JUSTIFICACION: \n",
    "\n",
    "Integridad de los datos. Los datos duplicados pueden dar lugar a cálculos incorrectos y sesgar los resultados del análisis. Eliminarlos ayudará a mantener la integridad de los datos y a obtener conclusiones más precisas.\n",
    "\n",
    "En este caso, la presencia de duplicados en la columna \"duration_seconds\" del DataFrame 3 no aporta información valiosa y parece ser el resultado de un error en la recopilación de datos o un problema de entrada. Por lo tanto, eliminar estos duplicados es una medida adecuada para mejorar la calidad de los datos y garantizar resultados confiables en el análisis posterior."
   ]
  },
  {
   "cell_type": "code",
   "execution_count": 20,
   "metadata": {},
   "outputs": [
    {
     "data": {
      "text/html": [
       "<div>\n",
       "<style scoped>\n",
       "    .dataframe tbody tr th:only-of-type {\n",
       "        vertical-align: middle;\n",
       "    }\n",
       "\n",
       "    .dataframe tbody tr th {\n",
       "        vertical-align: top;\n",
       "    }\n",
       "\n",
       "    .dataframe thead th {\n",
       "        text-align: right;\n",
       "    }\n",
       "</style>\n",
       "<table border=\"1\" class=\"dataframe\">\n",
       "  <thead>\n",
       "    <tr style=\"text-align: right;\">\n",
       "      <th></th>\n",
       "      <th>trips_amount</th>\n",
       "    </tr>\n",
       "  </thead>\n",
       "  <tbody>\n",
       "    <tr>\n",
       "      <th>count</th>\n",
       "      <td>64.000000</td>\n",
       "    </tr>\n",
       "    <tr>\n",
       "      <th>mean</th>\n",
       "      <td>2145.484375</td>\n",
       "    </tr>\n",
       "    <tr>\n",
       "      <th>std</th>\n",
       "      <td>3812.310186</td>\n",
       "    </tr>\n",
       "    <tr>\n",
       "      <th>min</th>\n",
       "      <td>2.000000</td>\n",
       "    </tr>\n",
       "    <tr>\n",
       "      <th>25%</th>\n",
       "      <td>20.750000</td>\n",
       "    </tr>\n",
       "    <tr>\n",
       "      <th>50%</th>\n",
       "      <td>178.500000</td>\n",
       "    </tr>\n",
       "    <tr>\n",
       "      <th>75%</th>\n",
       "      <td>2106.500000</td>\n",
       "    </tr>\n",
       "    <tr>\n",
       "      <th>max</th>\n",
       "      <td>19558.000000</td>\n",
       "    </tr>\n",
       "  </tbody>\n",
       "</table>\n",
       "</div>"
      ],
      "text/plain": [
       "       trips_amount\n",
       "count     64.000000\n",
       "mean    2145.484375\n",
       "std     3812.310186\n",
       "min        2.000000\n",
       "25%       20.750000\n",
       "50%      178.500000\n",
       "75%     2106.500000\n",
       "max    19558.000000"
      ]
     },
     "metadata": {},
     "output_type": "display_data"
    },
    {
     "data": {
      "text/html": [
       "<div>\n",
       "<style scoped>\n",
       "    .dataframe tbody tr th:only-of-type {\n",
       "        vertical-align: middle;\n",
       "    }\n",
       "\n",
       "    .dataframe tbody tr th {\n",
       "        vertical-align: top;\n",
       "    }\n",
       "\n",
       "    .dataframe thead th {\n",
       "        text-align: right;\n",
       "    }\n",
       "</style>\n",
       "<table border=\"1\" class=\"dataframe\">\n",
       "  <thead>\n",
       "    <tr style=\"text-align: right;\">\n",
       "      <th></th>\n",
       "      <th>average_trips</th>\n",
       "    </tr>\n",
       "  </thead>\n",
       "  <tbody>\n",
       "    <tr>\n",
       "      <th>count</th>\n",
       "      <td>94.000000</td>\n",
       "    </tr>\n",
       "    <tr>\n",
       "      <th>mean</th>\n",
       "      <td>599.953728</td>\n",
       "    </tr>\n",
       "    <tr>\n",
       "      <th>std</th>\n",
       "      <td>1714.591098</td>\n",
       "    </tr>\n",
       "    <tr>\n",
       "      <th>min</th>\n",
       "      <td>1.800000</td>\n",
       "    </tr>\n",
       "    <tr>\n",
       "      <th>25%</th>\n",
       "      <td>14.266667</td>\n",
       "    </tr>\n",
       "    <tr>\n",
       "      <th>50%</th>\n",
       "      <td>52.016667</td>\n",
       "    </tr>\n",
       "    <tr>\n",
       "      <th>75%</th>\n",
       "      <td>298.858333</td>\n",
       "    </tr>\n",
       "    <tr>\n",
       "      <th>max</th>\n",
       "      <td>10727.466667</td>\n",
       "    </tr>\n",
       "  </tbody>\n",
       "</table>\n",
       "</div>"
      ],
      "text/plain": [
       "       average_trips\n",
       "count      94.000000\n",
       "mean      599.953728\n",
       "std      1714.591098\n",
       "min         1.800000\n",
       "25%        14.266667\n",
       "50%        52.016667\n",
       "75%       298.858333\n",
       "max     10727.466667"
      ]
     },
     "metadata": {},
     "output_type": "display_data"
    },
    {
     "data": {
      "text/html": [
       "<div>\n",
       "<style scoped>\n",
       "    .dataframe tbody tr th:only-of-type {\n",
       "        vertical-align: middle;\n",
       "    }\n",
       "\n",
       "    .dataframe tbody tr th {\n",
       "        vertical-align: top;\n",
       "    }\n",
       "\n",
       "    .dataframe thead th {\n",
       "        text-align: right;\n",
       "    }\n",
       "</style>\n",
       "<table border=\"1\" class=\"dataframe\">\n",
       "  <thead>\n",
       "    <tr style=\"text-align: right;\">\n",
       "      <th></th>\n",
       "      <th>duration_seconds</th>\n",
       "    </tr>\n",
       "  </thead>\n",
       "  <tbody>\n",
       "    <tr>\n",
       "      <th>count</th>\n",
       "      <td>871.000000</td>\n",
       "    </tr>\n",
       "    <tr>\n",
       "      <th>mean</th>\n",
       "      <td>2096.308840</td>\n",
       "    </tr>\n",
       "    <tr>\n",
       "      <th>std</th>\n",
       "      <td>782.274717</td>\n",
       "    </tr>\n",
       "    <tr>\n",
       "      <th>min</th>\n",
       "      <td>0.000000</td>\n",
       "    </tr>\n",
       "    <tr>\n",
       "      <th>25%</th>\n",
       "      <td>1440.000000</td>\n",
       "    </tr>\n",
       "    <tr>\n",
       "      <th>50%</th>\n",
       "      <td>2015.000000</td>\n",
       "    </tr>\n",
       "    <tr>\n",
       "      <th>75%</th>\n",
       "      <td>2584.000000</td>\n",
       "    </tr>\n",
       "    <tr>\n",
       "      <th>max</th>\n",
       "      <td>7440.000000</td>\n",
       "    </tr>\n",
       "  </tbody>\n",
       "</table>\n",
       "</div>"
      ],
      "text/plain": [
       "       duration_seconds\n",
       "count        871.000000\n",
       "mean        2096.308840\n",
       "std          782.274717\n",
       "min            0.000000\n",
       "25%         1440.000000\n",
       "50%         2015.000000\n",
       "75%         2584.000000\n",
       "max         7440.000000"
      ]
     },
     "metadata": {},
     "output_type": "display_data"
    }
   ],
   "source": [
    "# Mostramos las estadísticas descriptivas de los DataFrames\n",
    "display(df1.describe())\n",
    "display(df2.describe())\n",
    "display(df3.describe())"
   ]
  },
  {
   "cell_type": "markdown",
   "metadata": {},
   "source": [
    "Primer DataFrame (project_sql_result_01.csv):\n",
    "\n",
    "\n",
    "El DataFrame contiene 64 filas y 2 columnas.\n",
    "La columna \"company_name\" es de tipo objeto (categórico).\n",
    "La columna \"trips_amount\" es de tipo int64 (numérico).\n",
    "No hay valores nulos en ninguno de los campos.\n",
    "La función describe() muestra estadísticas resumidas para la columna \"trips_amount\", lo que incluye el recuento, la media, la desviación estándar, el valor mínimo, el percentil 25, el percentil 50 (mediana), el percentil 75 y el valor máximo de los datos.\n",
    "\n",
    "\n",
    "Segundo DataFrame (project_sql_result_04.csv):\n",
    "\n",
    "\n",
    "El DataFrame contiene 94 filas y 2 columnas.\n",
    "La columna \"dropoff_location_name\" es de tipo objeto (categórico).\n",
    "La columna \"average_trips\" es de tipo float64 (numérico).\n",
    "No hay valores nulos en ninguno de los campos.\n",
    "La función describe() muestra estadísticas resumidas para la columna \"average_trips\", lo que incluye el recuento, la media, la desviación estándar, el valor mínimo, el percentil 25, el percentil 50 (mediana), el percentil 75 y el valor máximo de los datos\n",
    "\n",
    "\n",
    "Tercer DataFrame (project_sql_result_07.csv):\n",
    "\n",
    "\n",
    "El tercer DataFrame contiene un total de 1068 filas y 3 columnas. La columna \"start_ts\" se ha convertido en un objeto de fecha y hora (datetime64[ns]), la columna \"weather_conditions\" es de tipo objeto (categórico), y la columna \"duration_seconds\" es de tipo float64 (numérico).\n",
    "\n",
    "La columna \"start_ts\" representa la fecha y hora en que ocurrieron los eventos.\n",
    "La columna \"weather_conditions\" describe las condiciones climáticas en el momento del evento.\n",
    "La columna \"duration_seconds\" indica la duración en segundos de los eventos registrados.\n",
    "No se encontraron valores nulos en ninguno de los campos de este DataFrame.\n",
    "\n",
    "Resumen estadístico para \"duration_seconds\":\n",
    "\n",
    "Recuento (count): 1068.000000\n",
    "Media (mean): 2071.731273\n",
    "Desviación estándar (std): 769.461125\n",
    "Valor mínimo (min): 0.000000\n",
    "Percentil 25 (25%): 1438.250000\n",
    "Mediana (50%): 1980.000000\n",
    "Percentil 75 (75%): 2580.000000\n",
    "Valor máximo (max): 7440.000000\n",
    "Conclusión:\n",
    "\n",
    "El tercer DataFrame proporciona datos relacionados con eventos que ocurrieron en momentos específicos, incluyendo información sobre la fecha y hora en \"start_ts\" y las condiciones climáticas en \"weather_conditions\". La duración de estos eventos, registrada en \"duration_seconds,\" varía significativamente, con valores que oscilan entre 0 y 7440 segundos. Dado que este conjunto de datos no contiene valores nulos, parece estar completo y bien preparado para el análisis. La información sobre las condiciones climáticas podría ser relevante para comprender cómo afectan la duración de los eventos en cuestión."
   ]
  },
  {
   "cell_type": "code",
   "execution_count": 21,
   "metadata": {
    "scrolled": true
   },
   "outputs": [
    {
     "data": {
      "text/html": [
       "<div>\n",
       "<style scoped>\n",
       "    .dataframe tbody tr th:only-of-type {\n",
       "        vertical-align: middle;\n",
       "    }\n",
       "\n",
       "    .dataframe tbody tr th {\n",
       "        vertical-align: top;\n",
       "    }\n",
       "\n",
       "    .dataframe thead th {\n",
       "        text-align: right;\n",
       "    }\n",
       "</style>\n",
       "<table border=\"1\" class=\"dataframe\">\n",
       "  <thead>\n",
       "    <tr style=\"text-align: right;\">\n",
       "      <th></th>\n",
       "      <th>dropoff_location_name</th>\n",
       "      <th>average_trips</th>\n",
       "    </tr>\n",
       "  </thead>\n",
       "  <tbody>\n",
       "    <tr>\n",
       "      <th>0</th>\n",
       "      <td>Loop</td>\n",
       "      <td>10727.466667</td>\n",
       "    </tr>\n",
       "    <tr>\n",
       "      <th>1</th>\n",
       "      <td>River North</td>\n",
       "      <td>9523.666667</td>\n",
       "    </tr>\n",
       "    <tr>\n",
       "      <th>2</th>\n",
       "      <td>Streeterville</td>\n",
       "      <td>6664.666667</td>\n",
       "    </tr>\n",
       "    <tr>\n",
       "      <th>3</th>\n",
       "      <td>West Loop</td>\n",
       "      <td>5163.666667</td>\n",
       "    </tr>\n",
       "    <tr>\n",
       "      <th>4</th>\n",
       "      <td>O'Hare</td>\n",
       "      <td>2546.900000</td>\n",
       "    </tr>\n",
       "    <tr>\n",
       "      <th>5</th>\n",
       "      <td>Lake View</td>\n",
       "      <td>2420.966667</td>\n",
       "    </tr>\n",
       "    <tr>\n",
       "      <th>6</th>\n",
       "      <td>Grant Park</td>\n",
       "      <td>2068.533333</td>\n",
       "    </tr>\n",
       "    <tr>\n",
       "      <th>7</th>\n",
       "      <td>Museum Campus</td>\n",
       "      <td>1510.000000</td>\n",
       "    </tr>\n",
       "    <tr>\n",
       "      <th>8</th>\n",
       "      <td>Gold Coast</td>\n",
       "      <td>1364.233333</td>\n",
       "    </tr>\n",
       "    <tr>\n",
       "      <th>9</th>\n",
       "      <td>Sheffield &amp; DePaul</td>\n",
       "      <td>1259.766667</td>\n",
       "    </tr>\n",
       "  </tbody>\n",
       "</table>\n",
       "</div>"
      ],
      "text/plain": [
       "  dropoff_location_name  average_trips\n",
       "0                  Loop   10727.466667\n",
       "1           River North    9523.666667\n",
       "2         Streeterville    6664.666667\n",
       "3             West Loop    5163.666667\n",
       "4                O'Hare    2546.900000\n",
       "5             Lake View    2420.966667\n",
       "6            Grant Park    2068.533333\n",
       "7         Museum Campus    1510.000000\n",
       "8            Gold Coast    1364.233333\n",
       "9    Sheffield & DePaul    1259.766667"
      ]
     },
     "metadata": {},
     "output_type": "display_data"
    }
   ],
   "source": [
    "# Ordenar el DataFrame por la columna \"average_trips\" en orden descendente\n",
    "top_10_barrios = df2.sort_values(by='average_trips', ascending=False).head(10)\n",
    "\n",
    "display(top_10_barrios)"
   ]
  },
  {
   "cell_type": "code",
   "execution_count": 22,
   "metadata": {},
   "outputs": [
    {
     "data": {
      "image/png": "[encoded data removed]",
      "text/plain": [
       "<Figure size 864x432 with 1 Axes>"
      ]
     },
     "metadata": {
      "needs_background": "light"
     },
     "output_type": "display_data"
    },
    {
     "data": {
      "image/png": "[encoded data removed]",
      "text/plain": [
       "<Figure size 864x432 with 1 Axes>"
      ]
     },
     "metadata": {
      "needs_background": "light"
     },
     "output_type": "display_data"
    }
   ],
   "source": [
    "# Gráfico de empresas de taxis y número de viajes\n",
    "plt.figure(figsize=(12, 6))\n",
    "plt.bar(df1['company_name'], df1['trips_amount'])\n",
    "plt.title('Número de Viajes por Empresa de Taxis')\n",
    "plt.xlabel('Empresa de Taxis')\n",
    "plt.ylabel('Número de Viajes')\n",
    "plt.xticks(rotation=90)\n",
    "plt.show()\n",
    "\n",
    "# Gráfico de empresas de taxis y número de viajes (Top 10)\n",
    "plt.figure(figsize=(12, 6))\n",
    "top_10 = df1.nlargest(10, 'trips_amount')\n",
    "plt.bar(top_10['company_name'], top_10['trips_amount'])\n",
    "plt.title('Número de Viajes por Empresa de Taxis (Top 10)')\n",
    "plt.xlabel('Empresa de Taxis')\n",
    "plt.ylabel('Número de Viajes')\n",
    "plt.xticks(rotation=90)\n",
    "plt.show()"
   ]
  },
  {
   "cell_type": "code",
   "execution_count": 23,
   "metadata": {},
   "outputs": [
    {
     "data": {
      "image/png": "[encoded data removed]",
      "text/plain": [
       "<Figure size 864x432 with 1 Axes>"
      ]
     },
     "metadata": {
      "needs_background": "light"
     },
     "output_type": "display_data"
    }
   ],
   "source": [
    "# Gráfico de los 10 barrios principales por número de finalizaciones\n",
    "top_10_barrios = df2.nlargest(10, 'average_trips')\n",
    "plt.figure(figsize=(12, 6))\n",
    "plt.bar(top_10_barrios['dropoff_location_name'], top_10_barrios['average_trips'])\n",
    "plt.title('Los 10 Principales Barrios por Número de Finalizaciones')\n",
    "plt.xlabel('Barrio')\n",
    "plt.ylabel('Número de Finalizaciones')\n",
    "plt.xticks(rotation=45)\n",
    "plt.show()"
   ]
  },
  {
   "cell_type": "markdown",
   "metadata": {},
   "source": [
    "Empresas de Taxis y Número de Viajes:\n",
    "\n",
    "En el gráfico de las empresas de taxis y el número de viajes, podemos observar que \"Flash Cab\" es la empresa de taxis líder en términos de cantidad de viajes, con aproximadamente 19,558 viajes registrados en los días 15 y 16 de noviembre de 2017. Le siguen \"Taxi Affiliation Services,\" \"Medallion Leasing,\" \"Yellow Cab,\" y \"Taxi Affiliation Service Yellow\" en ese orden.\n",
    "\n",
    "\n",
    "\n",
    "Conclusiones:\n",
    "\n",
    "\"Flash Cab\" es claramente la empresa más popular en términos de cantidad de viajes, lo que sugiere una fuerte presencia en el mercado de taxis de Chicago durante esos días.\n",
    "Las diferencias significativas en la cantidad de viajes entre las empresas pueden deberse a la calidad del servicio, la disponibilidad de vehículos o la lealtad de los clientes.\n",
    "Los 10 Principales Barrios por Número de Finalizaciones:\n",
    "En el gráfico de los 10 principales barrios por número de finalizaciones de viajes, podemos observar que el \"Loop\" lidera la lista con un promedio de aproximadamente 10,727.47 finalizaciones de viajes en noviembre de 2017. Le siguen \"River North,\" \"Streeterville,\" \"West Loop,\" y \"O'Hare.\"\n",
    "\n",
    "\n",
    "\n",
    "Conclusiones:\n",
    "\n",
    "El \"Loop\" es claramente el barrio con más actividad de finalización de viajes, lo que es comprensible dado que es el centro de negocios y entretenimiento de Chicago.\n",
    "Los barrios que le siguen en la lista también son áreas comerciales y turísticas importantes, lo que explica su alta cantidad de finalizaciones de viajes.\n",
    "La presencia de \"O'Hare\" en la lista sugiere que el aeropuerto es un destino clave para los taxis, lo que es coherente con la necesidad de transporte al aeropuerto."
   ]
  },
  {
   "cell_type": "markdown",
   "metadata": {},
   "source": [
    "## Sección de Prueba de Hipótesis\n",
    "\n",
    "Hipótesis Nula (H0): No hay diferencia significativa en el número de viajes entre \"Flash Cab\" y \"Yellow Cab\".\n",
    "\n",
    "Hipótesis Alternativa (H1): Hay una diferencia significativa en el número de viajes entre \"Flash Cab\" y \"Yellow Cab\".\n",
    "\n",
    "Nivel de Significancia\n",
    "\n",
    "alpha = 0.05"
   ]
  },
  {
   "cell_type": "code",
   "execution_count": 24,
   "metadata": {},
   "outputs": [],
   "source": [
    "# Divide los datos en dos grupos: sábados lluviosos y sábados no lluviosos\n",
    "rainy_saturdays = saturdays[saturdays['weather_conditions'] == 'Bad']\n",
    "non_rainy_saturdays = saturdays[saturdays['weather_conditions'] == 'Good']"
   ]
  },
  {
   "cell_type": "code",
   "execution_count": 25,
   "metadata": {},
   "outputs": [],
   "source": [
    "# Realiza una prueba para verificar si las varianzas son iguales o no\n",
    "_, variance_p_value = stats.levene(rainy_saturdays['duration_seconds'], non_rainy_saturdays['duration_seconds'])"
   ]
  },
  {
   "cell_type": "code",
   "execution_count": 26,
   "metadata": {},
   "outputs": [],
   "source": [
    "# Define la hipótesis nula y alternativa\n",
    "# H0: Las varianzas son iguales\n",
    "# H1: Las varianzas son diferentes\n",
    "\n",
    "# Establece el nivel de significación (alfa)\n",
    "alpha = 0.05"
   ]
  },
  {
   "cell_type": "code",
   "execution_count": 27,
   "metadata": {},
   "outputs": [],
   "source": [
    "# Compara el valor p con alfa para decidir si las varianzas son iguales o no\n",
    "if variance_p_value < alpha:\n",
    "    equal_var = False\n",
    "    conclusion = \"Rechazar la hipótesis nula. Las varianzas son diferentes.\"\n",
    "else:\n",
    "    equal_var = True\n",
    "    conclusion = \"No rechazar la hipótesis nula. Las varianzas son iguales.\"\n"
   ]
  },
  {
   "cell_type": "code",
   "execution_count": 28,
   "metadata": {},
   "outputs": [],
   "source": [
    "# Realiza la prueba de hipótesis utilizando la prueba t de Student\n",
    "t_statistic, p_value = stats.ttest_ind(rainy_saturdays['duration_seconds'], non_rainy_saturdays['duration_seconds'], equal_var=equal_var)\n"
   ]
  },
  {
   "cell_type": "code",
   "execution_count": 29,
   "metadata": {},
   "outputs": [
    {
     "name": "stdout",
     "output_type": "stream",
     "text": [
      "Resultado de la Prueba de Igualdad de Varianzas:\n",
      "Valor p para varianzas: 0.5332038671974493\n",
      "No rechazar la hipótesis nula. Las varianzas son iguales.\n"
     ]
    }
   ],
   "source": [
    "# Resultados de la prueba de igualdad de varianzas\n",
    "print(\"Resultado de la Prueba de Igualdad de Varianzas:\")\n",
    "print(\"Valor p para varianzas:\", variance_p_value)\n",
    "print(conclusion)"
   ]
  },
  {
   "cell_type": "code",
   "execution_count": 30,
   "metadata": {},
   "outputs": [
    {
     "name": "stdout",
     "output_type": "stream",
     "text": [
      "\n",
      "Resultado de la Prueba de Hipótesis:\n",
      "T-statistic:  6.946177714041499\n",
      "P-value:  6.517970327099473e-12\n",
      "Resultado de la Prueba de Hipótesis:\n",
      "T-statistic: 6.946177714041499\n",
      "P-value: 6.517970327099473e-12\n",
      "Resultado: Rechazar la hipótesis nula\n"
     ]
    }
   ],
   "source": [
    "# Resultados de la prueba de hipótesis\n",
    "print(\"\\nResultado de la Prueba de Hipótesis:\")\n",
    "print(\"T-statistic: \", t_statistic)\n",
    "print(\"P-value: \", p_value)\n",
    "\n",
    "# Establece el nivel de significancia (alfa) nuevamente para la prueba de hipótesis\n",
    "alpha = 0.05\n",
    "\n",
    "# Compara el valor p con alfa para tomar una decisión\n",
    "if p_value < alpha:\n",
    "    resultado = \"Rechazar la hipótesis nula\"\n",
    "else:\n",
    "    resultado = \"No rechazar la hipótesis nula\"\n",
    "\n",
    "print(\"Resultado de la Prueba de Hipótesis:\")\n",
    "print(f\"T-statistic: {t_statistic}\")\n",
    "print(f\"P-value: {p_value}\")\n",
    "print(f\"Resultado: {resultado}\")"
   ]
  },
  {
   "cell_type": "markdown",
   "metadata": {},
   "source": [
    "Los resultados de la prueba de hipótesis son los siguientes:\n",
    "\n",
    "Resultado de la Prueba de Igualdad de Varianzas:\n",
    "\n",
    "Valor p para varianzas: 0.5332\n",
    "No rechazar la hipótesis nula. Las varianzas son iguales.\n",
    "Resultado de la Prueba de Hipótesis:\n",
    "\n",
    "T-statistic: 6.9462\n",
    "P-value: 6.518e-12\n",
    "Resultado: Rechazar la hipótesis nula\n",
    "En la prueba de igualdad de varianzas, no se encontraron diferencias significativas en las varianzas de las duraciones de los viajes entre sábados lluviosos y no lluviosos, ya que el valor p (0.5332) es mayor que el nivel de significancia (alfa) de 0.05. Esto significa que las varianzas son estadísticamente iguales.\n",
    "\n",
    "En la prueba de hipótesis, se compararon las medias de la duración de los viajes en sábados lluviosos y no lluviosos. El valor p (6.518e-12) es significativamente menor que el nivel de significancia (alfa) de 0.05, lo que lleva a la conclusión de que se debe rechazar la hipótesis nula. Esto indica que existe una diferencia estadísticamente significativa en la duración de los viajes entre sábados lluviosos y no lluviosos, y esta diferencia es más que una fluctuación aleatoria."
   ]
  },
  {
   "cell_type": "markdown",
   "metadata": {},
   "source": [
    "## Conclusiones \n",
    "Resumiremos los hallazgos clave y las conclusiones del proyecto, destacando las empresas de taxis más populares, los lugares de destino principales y la influencia de las condiciones climáticas en los viajes en taxis de Chicago."
   ]
  },
  {
   "cell_type": "markdown",
   "metadata": {},
   "source": [
    "# Conclusión General:\n",
    "\n",
    "\n",
    "En este proyecto, realizamos un análisis de datos de tres conjuntos de datos relacionados con viajes en taxis en Chicago. A lo largo de esta tarea, llevamos a cabo varias etapas, cada una de las cuales se resume de la siguiente manera:\n",
    "\n",
    "\n",
    "Carga e Importación de Datos:\n",
    "\n",
    "\n",
    "Importamos tres conjuntos de datos desde archivos CSV.\n",
    "Revisamos la estructura y el contenido de cada conjunto de datos.\n",
    "Identificamos los tipos de datos de cada columna y verificamos la presencia de valores nulos.\n",
    "Análisis Exploratorio de Datos (EDA):\n",
    "\n",
    "\n",
    "Realizamos un análisis exploratorio de cada conjunto de datos para comprender mejor su contenido.\n",
    "Visualizamos los datos utilizando gráficos, como barras y diagramas de caja, para obtener información sobre las empresas de taxis y los barrios principales.\n",
    "Estadísticas y Pruebas de Hipótesis:\n",
    "\n",
    "\n",
    "Realizamos estadísticas descriptivas para resumir las características numéricas de los datos.\n",
    "Realizamos una prueba de hipótesis para comparar la duración de los viajes en sábados lluviosos y no lluviosos.\n",
    "Conclusiones de las Secciones Anteriores:\n",
    "\n",
    "\n",
    "Identificamos las empresas de taxis con la mayor cantidad de viajes.\n",
    "Reconocimos los barrios principales con la mayor cantidad de finalizaciones de viajes.\n",
    "Demostramos que la duración de los viajes difiere significativamente entre sábados lluviosos y no lluviosos.\n",
    "Conclusiones Generales:\n",
    "\n",
    "\n",
    "La empresa \"Flash Cab\" lidera en términos de cantidad de viajes, lo que sugiere una fuerte presencia en el mercado de taxis de Chicago.\n",
    "Los barrios \"Loop,\" \"River North,\" y \"Streeterville\" son los principales destinos de viajes de taxis en Chicago.\n",
    "En términos de duración de viajes, existe una diferencia estadísticamente significativa entre sábados lluviosos y no lluviosos, lo que sugiere que el clima influye en la duración de los viajes.\n",
    "Este proyecto demuestra la importancia del análisis de datos en la toma de decisiones y la identificación de patrones en conjuntos de datos reales. Proporciona información valiosa tanto para las empresas de taxis como para los usuarios que desean comprender mejor el comportamiento de los viajes en Chicago."
   ]
  }
 ],
 "metadata": {
  "kernelspec": {
   "display_name": "Python 3 (ipykernel)",
   "language": "python",
   "name": "python3"
  },
  "language_info": {
   "codemirror_mode": {
    "name": "ipython",
    "version": 3
   },
   "file_extension": ".py",
   "mimetype": "text/x-python",
   "name": "python",
   "nbconvert_exporter": "python",
   "pygments_lexer": "ipython3",
   "version": "3.9.5"
  },
  "toc": {
   "base_numbering": "1",
   "nav_menu": {},
   "number_sections": true,
   "sideBar": true,
   "skip_h1_title": true,
   "title_cell": "",
   "title_sidebar": "Tabla de Contenidos ",
   "toc_cell": true,
   "toc_position": {
    "height": "435px",
    "left": "30px",
    "top": "111.125px",
    "width": "165px"
   },
   "toc_section_display": true,
   "toc_window_display": false
  }
 },
 "nbformat": 4,
 "nbformat_minor": 2
}
